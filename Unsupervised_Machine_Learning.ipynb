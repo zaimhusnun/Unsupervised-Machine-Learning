{
  "cells": [
    {
      "cell_type": "markdown",
      "metadata": {
        "id": "view-in-github",
        "colab_type": "text"
      },
      "source": [
        "<a href=\"https://colab.research.google.com/github/zaimhusnun/Unsupervised-Machine-Learning/blob/main/Unsupervised_Machine_Learning.ipynb\" target=\"_parent\"><img src=\"https://colab.research.google.com/assets/colab-badge.svg\" alt=\"Open In Colab\"/></a>"
      ]
    },
    {
      "cell_type": "markdown",
      "id": "1854e224",
      "metadata": {
        "id": "1854e224"
      },
      "source": [
        "# **Unsupervised Machine Learning Python**"
      ]
    },
    {
      "cell_type": "code",
      "execution_count": null,
      "id": "19e2e47b",
      "metadata": {
        "id": "19e2e47b"
      },
      "outputs": [],
      "source": [
        "import numpy as np\n",
        "import pandas as pd\n",
        "import sklearn\n",
        "import sys\n",
        "import warnings\n",
        "import os\n",
        "if not sys.warnoptions:\n",
        "    warnings.simplefilter(\"ignore\")\n",
        "    os.environ[\"PYTHONWARNINGS\"] = \"ignore\"\n",
        "\n",
        "import matplotlib.pyplot as plt\n",
        "import seaborn as sns\n",
        "import time\n",
        "\n",
        "\n",
        "from sklearn.decomposition import PCA\n",
        "\n",
        "import numpy as np\n",
        "import pandas as pd\n",
        "\n",
        "from sklearn.cluster import KMeans\n",
        "from sklearn.metrics import silhouette_samples, silhouette_score\n",
        "\n",
        "import matplotlib.pyplot as plt\n",
        "import matplotlib.cm as cm\n",
        "import seaborn as sns"
      ]
    },
    {
      "cell_type": "markdown",
      "id": "5d57c5f6",
      "metadata": {
        "id": "5d57c5f6"
      },
      "source": [
        "## PCA"
      ]
    },
    {
      "cell_type": "markdown",
      "id": "814b4ae8",
      "metadata": {
        "id": "814b4ae8"
      },
      "source": [
        "Instruksi:\n",
        "1. Lakukan PCA pada data yang telah di-import di cell atas.\n",
        "2. Ketentuan PCA: Ambil sampai threshold explained variancenya 0.8 (80%)\n",
        "3. Berapa Principal Components yang diambil?\n",
        "4. Simpan data hasil PCA karena data hasil PCA ini akan digunakan di Soal 2: K-Means"
      ]
    },
    {
      "cell_type": "code",
      "execution_count": null,
      "id": "96d64187",
      "metadata": {
        "id": "96d64187"
      },
      "outputs": [],
      "source": [
        "### lakukan PCA di sini"
      ]
    },
    {
      "cell_type": "markdown",
      "id": "abbef451",
      "metadata": {
        "id": "abbef451"
      },
      "source": [
        "## Melakukan PCA dan Ambil PCA dengan treshhold explained variancenya 80%"
      ]
    },
    {
      "cell_type": "code",
      "execution_count": null,
      "id": "14eb65ff",
      "metadata": {
        "id": "14eb65ff"
      },
      "outputs": [],
      "source": [
        "from sklearn.decomposition import PCA\n",
        "pca_visual = PCA(0.80)\n",
        "\n",
        "pca_visual.fit(data)\n",
        "df_pca = pd.DataFrame(pca_visual.transform(data))\n",
        "#df_pca['PC1'] = data['PC1']\n",
        "#df_pca['PC2'] = data['PC2'].map(dictionary)"
      ]
    },
    {
      "cell_type": "code",
      "execution_count": null,
      "id": "932878bf",
      "metadata": {
        "id": "932878bf",
        "outputId": "5a5a7855-3e43-4427-db2d-1f9984076731"
      },
      "outputs": [
        {
          "data": {
            "text/html": [
              "<div>\n",
              "<style scoped>\n",
              "    .dataframe tbody tr th:only-of-type {\n",
              "        vertical-align: middle;\n",
              "    }\n",
              "\n",
              "    .dataframe tbody tr th {\n",
              "        vertical-align: top;\n",
              "    }\n",
              "\n",
              "    .dataframe thead th {\n",
              "        text-align: right;\n",
              "    }\n",
              "</style>\n",
              "<table border=\"1\" class=\"dataframe\">\n",
              "  <thead>\n",
              "    <tr style=\"text-align: right;\">\n",
              "      <th></th>\n",
              "      <th>0</th>\n",
              "      <th>1</th>\n",
              "      <th>2</th>\n",
              "      <th>3</th>\n",
              "      <th>4</th>\n",
              "      <th>5</th>\n",
              "      <th>6</th>\n",
              "      <th>7</th>\n",
              "      <th>8</th>\n",
              "      <th>9</th>\n",
              "      <th>10</th>\n",
              "      <th>11</th>\n",
              "    </tr>\n",
              "  </thead>\n",
              "  <tbody>\n",
              "    <tr>\n",
              "      <th>0</th>\n",
              "      <td>4.489239</td>\n",
              "      <td>23.388822</td>\n",
              "      <td>-1.245327</td>\n",
              "      <td>-0.604663</td>\n",
              "      <td>7.168715</td>\n",
              "      <td>12.140433</td>\n",
              "      <td>-2.606712</td>\n",
              "      <td>-2.982270</td>\n",
              "      <td>-1.240097</td>\n",
              "      <td>0.661235</td>\n",
              "      <td>3.653253</td>\n",
              "      <td>1.176113</td>\n",
              "    </tr>\n",
              "    <tr>\n",
              "      <th>1</th>\n",
              "      <td>-16.927579</td>\n",
              "      <td>-21.720006</td>\n",
              "      <td>0.453236</td>\n",
              "      <td>-2.092276</td>\n",
              "      <td>-1.854185</td>\n",
              "      <td>8.105598</td>\n",
              "      <td>0.857659</td>\n",
              "      <td>2.890713</td>\n",
              "      <td>0.310611</td>\n",
              "      <td>-0.045326</td>\n",
              "      <td>-4.492495</td>\n",
              "      <td>4.243733</td>\n",
              "    </tr>\n",
              "    <tr>\n",
              "      <th>2</th>\n",
              "      <td>29.585439</td>\n",
              "      <td>-0.367065</td>\n",
              "      <td>8.009331</td>\n",
              "      <td>3.564103</td>\n",
              "      <td>3.851260</td>\n",
              "      <td>1.446380</td>\n",
              "      <td>8.451138</td>\n",
              "      <td>-9.789632</td>\n",
              "      <td>-3.855225</td>\n",
              "      <td>-1.684923</td>\n",
              "      <td>-3.405300</td>\n",
              "      <td>-8.356691</td>\n",
              "    </tr>\n",
              "    <tr>\n",
              "      <th>3</th>\n",
              "      <td>-18.107060</td>\n",
              "      <td>-8.676266</td>\n",
              "      <td>-0.009083</td>\n",
              "      <td>9.928400</td>\n",
              "      <td>2.647460</td>\n",
              "      <td>-2.341457</td>\n",
              "      <td>4.218565</td>\n",
              "      <td>1.104390</td>\n",
              "      <td>-2.239445</td>\n",
              "      <td>-1.504301</td>\n",
              "      <td>3.573772</td>\n",
              "      <td>-18.724099</td>\n",
              "    </tr>\n",
              "    <tr>\n",
              "      <th>4</th>\n",
              "      <td>-19.133698</td>\n",
              "      <td>-13.345589</td>\n",
              "      <td>-5.568956</td>\n",
              "      <td>-6.848398</td>\n",
              "      <td>-5.305273</td>\n",
              "      <td>-10.130572</td>\n",
              "      <td>-9.445192</td>\n",
              "      <td>0.368672</td>\n",
              "      <td>-7.123532</td>\n",
              "      <td>-2.462980</td>\n",
              "      <td>2.651811</td>\n",
              "      <td>-6.460466</td>\n",
              "    </tr>\n",
              "    <tr>\n",
              "      <th>...</th>\n",
              "      <td>...</td>\n",
              "      <td>...</td>\n",
              "      <td>...</td>\n",
              "      <td>...</td>\n",
              "      <td>...</td>\n",
              "      <td>...</td>\n",
              "      <td>...</td>\n",
              "      <td>...</td>\n",
              "      <td>...</td>\n",
              "      <td>...</td>\n",
              "      <td>...</td>\n",
              "      <td>...</td>\n",
              "    </tr>\n",
              "    <tr>\n",
              "      <th>995</th>\n",
              "      <td>-27.596745</td>\n",
              "      <td>-5.675153</td>\n",
              "      <td>1.037456</td>\n",
              "      <td>2.060439</td>\n",
              "      <td>12.357932</td>\n",
              "      <td>-1.168417</td>\n",
              "      <td>-5.429511</td>\n",
              "      <td>-7.116851</td>\n",
              "      <td>2.629224</td>\n",
              "      <td>-3.142956</td>\n",
              "      <td>2.621997</td>\n",
              "      <td>-0.400097</td>\n",
              "    </tr>\n",
              "    <tr>\n",
              "      <th>996</th>\n",
              "      <td>-25.101230</td>\n",
              "      <td>-16.880265</td>\n",
              "      <td>-2.327276</td>\n",
              "      <td>0.339001</td>\n",
              "      <td>-0.856307</td>\n",
              "      <td>7.415144</td>\n",
              "      <td>3.238225</td>\n",
              "      <td>4.557121</td>\n",
              "      <td>-0.463356</td>\n",
              "      <td>-7.809110</td>\n",
              "      <td>3.039680</td>\n",
              "      <td>6.374570</td>\n",
              "    </tr>\n",
              "    <tr>\n",
              "      <th>997</th>\n",
              "      <td>23.515248</td>\n",
              "      <td>2.271175</td>\n",
              "      <td>5.068040</td>\n",
              "      <td>1.014359</td>\n",
              "      <td>12.138911</td>\n",
              "      <td>0.638384</td>\n",
              "      <td>-5.087893</td>\n",
              "      <td>-0.279657</td>\n",
              "      <td>1.870682</td>\n",
              "      <td>1.883865</td>\n",
              "      <td>-1.320213</td>\n",
              "      <td>-5.322234</td>\n",
              "    </tr>\n",
              "    <tr>\n",
              "      <th>998</th>\n",
              "      <td>32.730315</td>\n",
              "      <td>-4.069322</td>\n",
              "      <td>10.025550</td>\n",
              "      <td>0.286854</td>\n",
              "      <td>-16.406983</td>\n",
              "      <td>-5.374449</td>\n",
              "      <td>9.337272</td>\n",
              "      <td>5.613491</td>\n",
              "      <td>-0.188005</td>\n",
              "      <td>-8.060883</td>\n",
              "      <td>3.080424</td>\n",
              "      <td>2.834658</td>\n",
              "    </tr>\n",
              "    <tr>\n",
              "      <th>999</th>\n",
              "      <td>-16.006922</td>\n",
              "      <td>16.370074</td>\n",
              "      <td>-6.467812</td>\n",
              "      <td>5.820928</td>\n",
              "      <td>1.882635</td>\n",
              "      <td>7.485633</td>\n",
              "      <td>2.270965</td>\n",
              "      <td>0.355526</td>\n",
              "      <td>-8.975090</td>\n",
              "      <td>-6.109662</td>\n",
              "      <td>6.446929</td>\n",
              "      <td>0.741801</td>\n",
              "    </tr>\n",
              "  </tbody>\n",
              "</table>\n",
              "<p>1000 rows × 12 columns</p>\n",
              "</div>"
            ],
            "text/plain": [
              "            0          1          2         3          4          5   \\\n",
              "0     4.489239  23.388822  -1.245327 -0.604663   7.168715  12.140433   \n",
              "1   -16.927579 -21.720006   0.453236 -2.092276  -1.854185   8.105598   \n",
              "2    29.585439  -0.367065   8.009331  3.564103   3.851260   1.446380   \n",
              "3   -18.107060  -8.676266  -0.009083  9.928400   2.647460  -2.341457   \n",
              "4   -19.133698 -13.345589  -5.568956 -6.848398  -5.305273 -10.130572   \n",
              "..         ...        ...        ...       ...        ...        ...   \n",
              "995 -27.596745  -5.675153   1.037456  2.060439  12.357932  -1.168417   \n",
              "996 -25.101230 -16.880265  -2.327276  0.339001  -0.856307   7.415144   \n",
              "997  23.515248   2.271175   5.068040  1.014359  12.138911   0.638384   \n",
              "998  32.730315  -4.069322  10.025550  0.286854 -16.406983  -5.374449   \n",
              "999 -16.006922  16.370074  -6.467812  5.820928   1.882635   7.485633   \n",
              "\n",
              "           6         7         8         9         10         11  \n",
              "0   -2.606712 -2.982270 -1.240097  0.661235  3.653253   1.176113  \n",
              "1    0.857659  2.890713  0.310611 -0.045326 -4.492495   4.243733  \n",
              "2    8.451138 -9.789632 -3.855225 -1.684923 -3.405300  -8.356691  \n",
              "3    4.218565  1.104390 -2.239445 -1.504301  3.573772 -18.724099  \n",
              "4   -9.445192  0.368672 -7.123532 -2.462980  2.651811  -6.460466  \n",
              "..        ...       ...       ...       ...       ...        ...  \n",
              "995 -5.429511 -7.116851  2.629224 -3.142956  2.621997  -0.400097  \n",
              "996  3.238225  4.557121 -0.463356 -7.809110  3.039680   6.374570  \n",
              "997 -5.087893 -0.279657  1.870682  1.883865 -1.320213  -5.322234  \n",
              "998  9.337272  5.613491 -0.188005 -8.060883  3.080424   2.834658  \n",
              "999  2.270965  0.355526 -8.975090 -6.109662  6.446929   0.741801  \n",
              "\n",
              "[1000 rows x 12 columns]"
            ]
          },
          "execution_count": 17,
          "metadata": {},
          "output_type": "execute_result"
        }
      ],
      "source": [
        "df_pca"
      ]
    },
    {
      "cell_type": "code",
      "execution_count": null,
      "id": "e547f5db",
      "metadata": {
        "scrolled": true,
        "id": "e547f5db",
        "outputId": "66fdea39-d903-48f4-e4ef-a26f510a4bd4"
      },
      "outputs": [
        {
          "data": {
            "image/png": "[encoded data removed]",
            "text/plain": [
              "<Figure size 432x288 with 1 Axes>"
            ]
          },
          "metadata": {
            "needs_background": "light"
          },
          "output_type": "display_data"
        }
      ],
      "source": [
        "sns.scatterplot(data = df_pca, x = 0, y = 1)\n",
        "plt.show()"
      ]
    },
    {
      "cell_type": "code",
      "execution_count": null,
      "id": "1c7baca7",
      "metadata": {
        "scrolled": true,
        "id": "1c7baca7",
        "outputId": "717e300d-3589-42c2-ea36-4701d5bc70a3"
      },
      "outputs": [
        {
          "data": {
            "text/plain": [
              "array([0.31831273, 0.17175386, 0.0360312 , 0.03493263, 0.03268559,\n",
              "       0.03214236, 0.03093064, 0.02983051, 0.02911565, 0.02896145,\n",
              "       0.02839803, 0.0280762 ])"
            ]
          },
          "execution_count": 19,
          "metadata": {},
          "output_type": "execute_result"
        }
      ],
      "source": [
        "pca_visual.explained_variance_ratio_"
      ]
    },
    {
      "cell_type": "markdown",
      "id": "66123b49",
      "metadata": {
        "id": "66123b49"
      },
      "source": [
        "## Hasil dari PCA dengan treshold  explained variancenya 80%"
      ]
    },
    {
      "cell_type": "code",
      "execution_count": null,
      "id": "94985ddc",
      "metadata": {
        "scrolled": false,
        "id": "94985ddc",
        "outputId": "e59f00f9-0d8f-46ca-bdf0-15131315b17d"
      },
      "outputs": [
        {
          "data": {
            "text/plain": [
              "12"
            ]
          },
          "execution_count": 20,
          "metadata": {},
          "output_type": "execute_result"
        }
      ],
      "source": [
        "pca_visual.n_components_"
      ]
    },
    {
      "cell_type": "markdown",
      "id": "6fdf891b",
      "metadata": {
        "id": "6fdf891b"
      },
      "source": [
        "## Hasil data dari PCA"
      ]
    },
    {
      "cell_type": "code",
      "execution_count": null,
      "id": "a58c492b",
      "metadata": {
        "id": "a58c492b",
        "outputId": "6afbd13a-cd22-4dbd-817a-3e0c0dc9202c"
      },
      "outputs": [
        {
          "data": {
            "text/html": [
              "<div>\n",
              "<style scoped>\n",
              "    .dataframe tbody tr th:only-of-type {\n",
              "        vertical-align: middle;\n",
              "    }\n",
              "\n",
              "    .dataframe tbody tr th {\n",
              "        vertical-align: top;\n",
              "    }\n",
              "\n",
              "    .dataframe thead th {\n",
              "        text-align: right;\n",
              "    }\n",
              "</style>\n",
              "<table border=\"1\" class=\"dataframe\">\n",
              "  <thead>\n",
              "    <tr style=\"text-align: right;\">\n",
              "      <th></th>\n",
              "      <th>0</th>\n",
              "      <th>1</th>\n",
              "      <th>2</th>\n",
              "      <th>3</th>\n",
              "      <th>4</th>\n",
              "      <th>5</th>\n",
              "      <th>6</th>\n",
              "      <th>7</th>\n",
              "      <th>8</th>\n",
              "      <th>9</th>\n",
              "      <th>10</th>\n",
              "      <th>11</th>\n",
              "    </tr>\n",
              "  </thead>\n",
              "  <tbody>\n",
              "    <tr>\n",
              "      <th>0</th>\n",
              "      <td>4.489239</td>\n",
              "      <td>23.388822</td>\n",
              "      <td>-1.245327</td>\n",
              "      <td>-0.604663</td>\n",
              "      <td>7.168715</td>\n",
              "      <td>12.140433</td>\n",
              "      <td>-2.606712</td>\n",
              "      <td>-2.982270</td>\n",
              "      <td>-1.240097</td>\n",
              "      <td>0.661235</td>\n",
              "      <td>3.653253</td>\n",
              "      <td>1.176113</td>\n",
              "    </tr>\n",
              "    <tr>\n",
              "      <th>1</th>\n",
              "      <td>-16.927579</td>\n",
              "      <td>-21.720006</td>\n",
              "      <td>0.453236</td>\n",
              "      <td>-2.092276</td>\n",
              "      <td>-1.854185</td>\n",
              "      <td>8.105598</td>\n",
              "      <td>0.857659</td>\n",
              "      <td>2.890713</td>\n",
              "      <td>0.310611</td>\n",
              "      <td>-0.045326</td>\n",
              "      <td>-4.492495</td>\n",
              "      <td>4.243733</td>\n",
              "    </tr>\n",
              "    <tr>\n",
              "      <th>2</th>\n",
              "      <td>29.585439</td>\n",
              "      <td>-0.367065</td>\n",
              "      <td>8.009331</td>\n",
              "      <td>3.564103</td>\n",
              "      <td>3.851260</td>\n",
              "      <td>1.446380</td>\n",
              "      <td>8.451138</td>\n",
              "      <td>-9.789632</td>\n",
              "      <td>-3.855225</td>\n",
              "      <td>-1.684923</td>\n",
              "      <td>-3.405300</td>\n",
              "      <td>-8.356691</td>\n",
              "    </tr>\n",
              "    <tr>\n",
              "      <th>3</th>\n",
              "      <td>-18.107060</td>\n",
              "      <td>-8.676266</td>\n",
              "      <td>-0.009083</td>\n",
              "      <td>9.928400</td>\n",
              "      <td>2.647460</td>\n",
              "      <td>-2.341457</td>\n",
              "      <td>4.218565</td>\n",
              "      <td>1.104390</td>\n",
              "      <td>-2.239445</td>\n",
              "      <td>-1.504301</td>\n",
              "      <td>3.573772</td>\n",
              "      <td>-18.724099</td>\n",
              "    </tr>\n",
              "    <tr>\n",
              "      <th>4</th>\n",
              "      <td>-19.133698</td>\n",
              "      <td>-13.345589</td>\n",
              "      <td>-5.568956</td>\n",
              "      <td>-6.848398</td>\n",
              "      <td>-5.305273</td>\n",
              "      <td>-10.130572</td>\n",
              "      <td>-9.445192</td>\n",
              "      <td>0.368672</td>\n",
              "      <td>-7.123532</td>\n",
              "      <td>-2.462980</td>\n",
              "      <td>2.651811</td>\n",
              "      <td>-6.460466</td>\n",
              "    </tr>\n",
              "    <tr>\n",
              "      <th>...</th>\n",
              "      <td>...</td>\n",
              "      <td>...</td>\n",
              "      <td>...</td>\n",
              "      <td>...</td>\n",
              "      <td>...</td>\n",
              "      <td>...</td>\n",
              "      <td>...</td>\n",
              "      <td>...</td>\n",
              "      <td>...</td>\n",
              "      <td>...</td>\n",
              "      <td>...</td>\n",
              "      <td>...</td>\n",
              "    </tr>\n",
              "    <tr>\n",
              "      <th>995</th>\n",
              "      <td>-27.596745</td>\n",
              "      <td>-5.675153</td>\n",
              "      <td>1.037456</td>\n",
              "      <td>2.060439</td>\n",
              "      <td>12.357932</td>\n",
              "      <td>-1.168417</td>\n",
              "      <td>-5.429511</td>\n",
              "      <td>-7.116851</td>\n",
              "      <td>2.629224</td>\n",
              "      <td>-3.142956</td>\n",
              "      <td>2.621997</td>\n",
              "      <td>-0.400097</td>\n",
              "    </tr>\n",
              "    <tr>\n",
              "      <th>996</th>\n",
              "      <td>-25.101230</td>\n",
              "      <td>-16.880265</td>\n",
              "      <td>-2.327276</td>\n",
              "      <td>0.339001</td>\n",
              "      <td>-0.856307</td>\n",
              "      <td>7.415144</td>\n",
              "      <td>3.238225</td>\n",
              "      <td>4.557121</td>\n",
              "      <td>-0.463356</td>\n",
              "      <td>-7.809110</td>\n",
              "      <td>3.039680</td>\n",
              "      <td>6.374570</td>\n",
              "    </tr>\n",
              "    <tr>\n",
              "      <th>997</th>\n",
              "      <td>23.515248</td>\n",
              "      <td>2.271175</td>\n",
              "      <td>5.068040</td>\n",
              "      <td>1.014359</td>\n",
              "      <td>12.138911</td>\n",
              "      <td>0.638384</td>\n",
              "      <td>-5.087893</td>\n",
              "      <td>-0.279657</td>\n",
              "      <td>1.870682</td>\n",
              "      <td>1.883865</td>\n",
              "      <td>-1.320213</td>\n",
              "      <td>-5.322234</td>\n",
              "    </tr>\n",
              "    <tr>\n",
              "      <th>998</th>\n",
              "      <td>32.730315</td>\n",
              "      <td>-4.069322</td>\n",
              "      <td>10.025550</td>\n",
              "      <td>0.286854</td>\n",
              "      <td>-16.406983</td>\n",
              "      <td>-5.374449</td>\n",
              "      <td>9.337272</td>\n",
              "      <td>5.613491</td>\n",
              "      <td>-0.188005</td>\n",
              "      <td>-8.060883</td>\n",
              "      <td>3.080424</td>\n",
              "      <td>2.834658</td>\n",
              "    </tr>\n",
              "    <tr>\n",
              "      <th>999</th>\n",
              "      <td>-16.006922</td>\n",
              "      <td>16.370074</td>\n",
              "      <td>-6.467812</td>\n",
              "      <td>5.820928</td>\n",
              "      <td>1.882635</td>\n",
              "      <td>7.485633</td>\n",
              "      <td>2.270965</td>\n",
              "      <td>0.355526</td>\n",
              "      <td>-8.975090</td>\n",
              "      <td>-6.109662</td>\n",
              "      <td>6.446929</td>\n",
              "      <td>0.741801</td>\n",
              "    </tr>\n",
              "  </tbody>\n",
              "</table>\n",
              "<p>1000 rows × 12 columns</p>\n",
              "</div>"
            ],
            "text/plain": [
              "            0          1          2         3          4          5   \\\n",
              "0     4.489239  23.388822  -1.245327 -0.604663   7.168715  12.140433   \n",
              "1   -16.927579 -21.720006   0.453236 -2.092276  -1.854185   8.105598   \n",
              "2    29.585439  -0.367065   8.009331  3.564103   3.851260   1.446380   \n",
              "3   -18.107060  -8.676266  -0.009083  9.928400   2.647460  -2.341457   \n",
              "4   -19.133698 -13.345589  -5.568956 -6.848398  -5.305273 -10.130572   \n",
              "..         ...        ...        ...       ...        ...        ...   \n",
              "995 -27.596745  -5.675153   1.037456  2.060439  12.357932  -1.168417   \n",
              "996 -25.101230 -16.880265  -2.327276  0.339001  -0.856307   7.415144   \n",
              "997  23.515248   2.271175   5.068040  1.014359  12.138911   0.638384   \n",
              "998  32.730315  -4.069322  10.025550  0.286854 -16.406983  -5.374449   \n",
              "999 -16.006922  16.370074  -6.467812  5.820928   1.882635   7.485633   \n",
              "\n",
              "           6         7         8         9         10         11  \n",
              "0   -2.606712 -2.982270 -1.240097  0.661235  3.653253   1.176113  \n",
              "1    0.857659  2.890713  0.310611 -0.045326 -4.492495   4.243733  \n",
              "2    8.451138 -9.789632 -3.855225 -1.684923 -3.405300  -8.356691  \n",
              "3    4.218565  1.104390 -2.239445 -1.504301  3.573772 -18.724099  \n",
              "4   -9.445192  0.368672 -7.123532 -2.462980  2.651811  -6.460466  \n",
              "..        ...       ...       ...       ...       ...        ...  \n",
              "995 -5.429511 -7.116851  2.629224 -3.142956  2.621997  -0.400097  \n",
              "996  3.238225  4.557121 -0.463356 -7.809110  3.039680   6.374570  \n",
              "997 -5.087893 -0.279657  1.870682  1.883865 -1.320213  -5.322234  \n",
              "998  9.337272  5.613491 -0.188005 -8.060883  3.080424   2.834658  \n",
              "999  2.270965  0.355526 -8.975090 -6.109662  6.446929   0.741801  \n",
              "\n",
              "[1000 rows x 12 columns]"
            ]
          },
          "execution_count": 25,
          "metadata": {},
          "output_type": "execute_result"
        }
      ],
      "source": [
        "data_pca=pd.DataFrame(df_pca)\n",
        "data_pca"
      ]
    },
    {
      "cell_type": "markdown",
      "id": "3811b3d1",
      "metadata": {
        "id": "3811b3d1"
      },
      "source": [
        "##### Jawab: Hasil PCA adalah mengambil ??\n",
        "12 Principal Components."
      ]
    },
    {
      "cell_type": "markdown",
      "id": "2c391cc3",
      "metadata": {
        "id": "2c391cc3"
      },
      "source": [
        "## Interpretasi\n",
        "berdasarkan dari analisis PCA didapatkan dengan treshhold 80%, didapatkan 12 kolom. jadi dengan 19 kolom dari data awal, 12 kolom terpilih dapat menjelaskan 80% informasi dari data awal."
      ]
    },
    {
      "cell_type": "markdown",
      "id": "9d628c85",
      "metadata": {
        "id": "9d628c85"
      },
      "source": [
        "## K Means"
      ]
    },
    {
      "cell_type": "markdown",
      "id": "9e172fc0",
      "metadata": {
        "id": "9e172fc0"
      },
      "source": [
        "Instruksi:\n",
        "1. Dari data yang sudah di-PCA-kan (jadi datanya sudah baru ya, bukan data original lagi, ingat, data yang sudah di-PCA-kan), kita akan menentukan k = ?? yang paling ideal untuk clustering.\n",
        "2. Lakukan Elbow dan Silhouette method\n",
        "3. Visualisasikan hasil Elbow dan Silhouette method\n",
        "4. Berapa nilai k yang terbaik?"
      ]
    },
    {
      "cell_type": "code",
      "execution_count": null,
      "id": "c749db76",
      "metadata": {
        "id": "c749db76"
      },
      "outputs": [],
      "source": [
        "import numpy as np\n",
        "import pandas as pd\n",
        "\n",
        "from sklearn.cluster import KMeans\n",
        "from sklearn.metrics import silhouette_samples, silhouette_score\n",
        "from sklearn.preprocessing import StandardScaler\n",
        "\n",
        "import matplotlib.pyplot as plt\n",
        "import matplotlib.cm as cm\n",
        "import seaborn as sns"
      ]
    },
    {
      "cell_type": "markdown",
      "id": "9a8ac730",
      "metadata": {
        "id": "9a8ac730"
      },
      "source": [
        "## Elbow Method"
      ]
    },
    {
      "cell_type": "markdown",
      "id": "4c93f907",
      "metadata": {
        "id": "4c93f907"
      },
      "source": [
        "### K-Means with Elbow Method"
      ]
    },
    {
      "cell_type": "code",
      "execution_count": null,
      "id": "ccf104c7",
      "metadata": {
        "id": "ccf104c7"
      },
      "outputs": [],
      "source": [
        "# Elbow Method\n",
        "score = []\n",
        "\n",
        "for cluster in range(1,11):\n",
        "    kmeans = KMeans(n_clusters = cluster)\n",
        "    scaled_data = StandardScaler().fit_transform(data_pca)\n",
        "    kmeans.fit(scaled_data)\n",
        "    score.append(kmeans.inertia_)"
      ]
    },
    {
      "cell_type": "markdown",
      "id": "3667954d",
      "metadata": {
        "id": "3667954d"
      },
      "source": [
        "### Plotting K Elbow Method"
      ]
    },
    {
      "cell_type": "code",
      "execution_count": null,
      "id": "92469dd8",
      "metadata": {
        "scrolled": true,
        "id": "92469dd8",
        "outputId": "6db3ac93-85a1-4b48-e0b8-c7f31b645e4a"
      },
      "outputs": [
        {
          "data": {
            "image/png": "[encoded data removed]",
            "text/plain": [
              "<Figure size 432x288 with 1 Axes>"
            ]
          },
          "metadata": {
            "needs_background": "light"
          },
          "output_type": "display_data"
        }
      ],
      "source": [
        "# plotting the score\n",
        "plt.plot(range(1,11), score)\n",
        "plt.title('The Elbow Method')\n",
        "plt.xlabel('no of clusters')\n",
        "plt.ylabel('wcss')\n",
        "plt.show()"
      ]
    },
    {
      "cell_type": "markdown",
      "id": "e0d20ba8",
      "metadata": {
        "id": "e0d20ba8"
      },
      "source": [
        "## Shiloutte Method"
      ]
    },
    {
      "cell_type": "markdown",
      "id": "e61253b0",
      "metadata": {
        "id": "e61253b0"
      },
      "source": [
        "### K-Means with Sholoutte Method"
      ]
    },
    {
      "cell_type": "code",
      "execution_count": null,
      "id": "6ef458a5",
      "metadata": {
        "id": "6ef458a5"
      },
      "outputs": [],
      "source": [
        "# Silhouette score\n",
        "silhouette_coefficients = []\n",
        "from sklearn.metrics import silhouette_score\n",
        "\n",
        "# Notice you start at 2 clusters for silhouette coefficient\n",
        "for k in range(2, 11):\n",
        "    kmeans = KMeans(n_clusters=k)\n",
        "    scaled_data = StandardScaler().fit_transform(data_pca)\n",
        "    kmeans.fit(scaled_data)\n",
        "    score = silhouette_score(scaled_data, kmeans.labels_)\n",
        "    silhouette_coefficients.append(score)"
      ]
    },
    {
      "cell_type": "markdown",
      "id": "7ce7aa5b",
      "metadata": {
        "id": "7ce7aa5b"
      },
      "source": [
        "### Ploting K from Shiloutte Method"
      ]
    },
    {
      "cell_type": "code",
      "execution_count": null,
      "id": "80cf9522",
      "metadata": {
        "id": "80cf9522"
      },
      "outputs": [],
      "source": [
        "plt.plot(range(2, 11), silhouette_coefficients)\n",
        "plt.xticks(range(2, 11))\n",
        "plt.xlabel(\"Number of Clusters\")\n",
        "plt.ylabel(\"Silhouette Coefficient\")\n",
        "plt.show()"
      ]
    },
    {
      "cell_type": "markdown",
      "id": "91faa167",
      "metadata": {
        "id": "91faa167"
      },
      "source": [
        "##### Jawab: Nilai k yang terbaik berdasarkan Elbow dan Silhouette method adalah...k = ??"
      ]
    },
    {
      "cell_type": "markdown",
      "id": "150104c5",
      "metadata": {
        "id": "150104c5"
      },
      "source": [
        "## Interpretasi\n",
        "Berdasarkan penghitungan K-Means dengan metode Elbow dan Shiloutte didapatkan nilai k yang optimal adalah berjumlah 3. Karena pada plotting metode Elbow, terdapat perubahan garis yang signifikan pada k=3. Begitu juga pada metode Shiloutte, titik tertinggi adalah pada k=3."
      ]
    },
    {
      "cell_type": "code",
      "execution_count": null,
      "id": "6af3a630",
      "metadata": {
        "id": "6af3a630",
        "outputId": "01e4567d-2185-41ac-920e-e78f28898b79"
      },
      "outputs": [
        {
          "data": {
            "text/html": [
              "<div>\n",
              "<style scoped>\n",
              "    .dataframe tbody tr th:only-of-type {\n",
              "        vertical-align: middle;\n",
              "    }\n",
              "\n",
              "    .dataframe tbody tr th {\n",
              "        vertical-align: top;\n",
              "    }\n",
              "\n",
              "    .dataframe thead th {\n",
              "        text-align: right;\n",
              "    }\n",
              "</style>\n",
              "<table border=\"1\" class=\"dataframe\">\n",
              "  <thead>\n",
              "    <tr style=\"text-align: right;\">\n",
              "      <th></th>\n",
              "      <th>0</th>\n",
              "      <th>1</th>\n",
              "      <th>2</th>\n",
              "      <th>3</th>\n",
              "      <th>4</th>\n",
              "      <th>5</th>\n",
              "      <th>6</th>\n",
              "      <th>7</th>\n",
              "      <th>8</th>\n",
              "      <th>9</th>\n",
              "      <th>10</th>\n",
              "      <th>11</th>\n",
              "      <th>cluster</th>\n",
              "    </tr>\n",
              "  </thead>\n",
              "  <tbody>\n",
              "    <tr>\n",
              "      <th>0</th>\n",
              "      <td>4.489239</td>\n",
              "      <td>23.388822</td>\n",
              "      <td>-1.245327</td>\n",
              "      <td>-0.604663</td>\n",
              "      <td>7.168715</td>\n",
              "      <td>12.140433</td>\n",
              "      <td>-2.606712</td>\n",
              "      <td>-2.982270</td>\n",
              "      <td>-1.240097</td>\n",
              "      <td>0.661235</td>\n",
              "      <td>3.653253</td>\n",
              "      <td>1.176113</td>\n",
              "      <td>2</td>\n",
              "    </tr>\n",
              "    <tr>\n",
              "      <th>1</th>\n",
              "      <td>-16.927579</td>\n",
              "      <td>-21.720006</td>\n",
              "      <td>0.453236</td>\n",
              "      <td>-2.092276</td>\n",
              "      <td>-1.854185</td>\n",
              "      <td>8.105598</td>\n",
              "      <td>0.857659</td>\n",
              "      <td>2.890713</td>\n",
              "      <td>0.310611</td>\n",
              "      <td>-0.045326</td>\n",
              "      <td>-4.492495</td>\n",
              "      <td>4.243733</td>\n",
              "      <td>1</td>\n",
              "    </tr>\n",
              "    <tr>\n",
              "      <th>2</th>\n",
              "      <td>29.585439</td>\n",
              "      <td>-0.367065</td>\n",
              "      <td>8.009331</td>\n",
              "      <td>3.564103</td>\n",
              "      <td>3.851260</td>\n",
              "      <td>1.446380</td>\n",
              "      <td>8.451138</td>\n",
              "      <td>-9.789632</td>\n",
              "      <td>-3.855225</td>\n",
              "      <td>-1.684923</td>\n",
              "      <td>-3.405300</td>\n",
              "      <td>-8.356691</td>\n",
              "      <td>0</td>\n",
              "    </tr>\n",
              "    <tr>\n",
              "      <th>3</th>\n",
              "      <td>-18.107060</td>\n",
              "      <td>-8.676266</td>\n",
              "      <td>-0.009083</td>\n",
              "      <td>9.928400</td>\n",
              "      <td>2.647460</td>\n",
              "      <td>-2.341457</td>\n",
              "      <td>4.218565</td>\n",
              "      <td>1.104390</td>\n",
              "      <td>-2.239445</td>\n",
              "      <td>-1.504301</td>\n",
              "      <td>3.573772</td>\n",
              "      <td>-18.724099</td>\n",
              "      <td>1</td>\n",
              "    </tr>\n",
              "    <tr>\n",
              "      <th>4</th>\n",
              "      <td>-19.133698</td>\n",
              "      <td>-13.345589</td>\n",
              "      <td>-5.568956</td>\n",
              "      <td>-6.848398</td>\n",
              "      <td>-5.305273</td>\n",
              "      <td>-10.130572</td>\n",
              "      <td>-9.445192</td>\n",
              "      <td>0.368672</td>\n",
              "      <td>-7.123532</td>\n",
              "      <td>-2.462980</td>\n",
              "      <td>2.651811</td>\n",
              "      <td>-6.460466</td>\n",
              "      <td>1</td>\n",
              "    </tr>\n",
              "    <tr>\n",
              "      <th>...</th>\n",
              "      <td>...</td>\n",
              "      <td>...</td>\n",
              "      <td>...</td>\n",
              "      <td>...</td>\n",
              "      <td>...</td>\n",
              "      <td>...</td>\n",
              "      <td>...</td>\n",
              "      <td>...</td>\n",
              "      <td>...</td>\n",
              "      <td>...</td>\n",
              "      <td>...</td>\n",
              "      <td>...</td>\n",
              "      <td>...</td>\n",
              "    </tr>\n",
              "    <tr>\n",
              "      <th>995</th>\n",
              "      <td>-27.596745</td>\n",
              "      <td>-5.675153</td>\n",
              "      <td>1.037456</td>\n",
              "      <td>2.060439</td>\n",
              "      <td>12.357932</td>\n",
              "      <td>-1.168417</td>\n",
              "      <td>-5.429511</td>\n",
              "      <td>-7.116851</td>\n",
              "      <td>2.629224</td>\n",
              "      <td>-3.142956</td>\n",
              "      <td>2.621997</td>\n",
              "      <td>-0.400097</td>\n",
              "      <td>1</td>\n",
              "    </tr>\n",
              "    <tr>\n",
              "      <th>996</th>\n",
              "      <td>-25.101230</td>\n",
              "      <td>-16.880265</td>\n",
              "      <td>-2.327276</td>\n",
              "      <td>0.339001</td>\n",
              "      <td>-0.856307</td>\n",
              "      <td>7.415144</td>\n",
              "      <td>3.238225</td>\n",
              "      <td>4.557121</td>\n",
              "      <td>-0.463356</td>\n",
              "      <td>-7.809110</td>\n",
              "      <td>3.039680</td>\n",
              "      <td>6.374570</td>\n",
              "      <td>1</td>\n",
              "    </tr>\n",
              "    <tr>\n",
              "      <th>997</th>\n",
              "      <td>23.515248</td>\n",
              "      <td>2.271175</td>\n",
              "      <td>5.068040</td>\n",
              "      <td>1.014359</td>\n",
              "      <td>12.138911</td>\n",
              "      <td>0.638384</td>\n",
              "      <td>-5.087893</td>\n",
              "      <td>-0.279657</td>\n",
              "      <td>1.870682</td>\n",
              "      <td>1.883865</td>\n",
              "      <td>-1.320213</td>\n",
              "      <td>-5.322234</td>\n",
              "      <td>0</td>\n",
              "    </tr>\n",
              "    <tr>\n",
              "      <th>998</th>\n",
              "      <td>32.730315</td>\n",
              "      <td>-4.069322</td>\n",
              "      <td>10.025550</td>\n",
              "      <td>0.286854</td>\n",
              "      <td>-16.406983</td>\n",
              "      <td>-5.374449</td>\n",
              "      <td>9.337272</td>\n",
              "      <td>5.613491</td>\n",
              "      <td>-0.188005</td>\n",
              "      <td>-8.060883</td>\n",
              "      <td>3.080424</td>\n",
              "      <td>2.834658</td>\n",
              "      <td>0</td>\n",
              "    </tr>\n",
              "    <tr>\n",
              "      <th>999</th>\n",
              "      <td>-16.006922</td>\n",
              "      <td>16.370074</td>\n",
              "      <td>-6.467812</td>\n",
              "      <td>5.820928</td>\n",
              "      <td>1.882635</td>\n",
              "      <td>7.485633</td>\n",
              "      <td>2.270965</td>\n",
              "      <td>0.355526</td>\n",
              "      <td>-8.975090</td>\n",
              "      <td>-6.109662</td>\n",
              "      <td>6.446929</td>\n",
              "      <td>0.741801</td>\n",
              "      <td>2</td>\n",
              "    </tr>\n",
              "  </tbody>\n",
              "</table>\n",
              "<p>1000 rows × 13 columns</p>\n",
              "</div>"
            ],
            "text/plain": [
              "             0          1          2         3          4          5  \\\n",
              "0     4.489239  23.388822  -1.245327 -0.604663   7.168715  12.140433   \n",
              "1   -16.927579 -21.720006   0.453236 -2.092276  -1.854185   8.105598   \n",
              "2    29.585439  -0.367065   8.009331  3.564103   3.851260   1.446380   \n",
              "3   -18.107060  -8.676266  -0.009083  9.928400   2.647460  -2.341457   \n",
              "4   -19.133698 -13.345589  -5.568956 -6.848398  -5.305273 -10.130572   \n",
              "..         ...        ...        ...       ...        ...        ...   \n",
              "995 -27.596745  -5.675153   1.037456  2.060439  12.357932  -1.168417   \n",
              "996 -25.101230 -16.880265  -2.327276  0.339001  -0.856307   7.415144   \n",
              "997  23.515248   2.271175   5.068040  1.014359  12.138911   0.638384   \n",
              "998  32.730315  -4.069322  10.025550  0.286854 -16.406983  -5.374449   \n",
              "999 -16.006922  16.370074  -6.467812  5.820928   1.882635   7.485633   \n",
              "\n",
              "            6         7         8         9        10         11 cluster  \n",
              "0   -2.606712 -2.982270 -1.240097  0.661235  3.653253   1.176113       2  \n",
              "1    0.857659  2.890713  0.310611 -0.045326 -4.492495   4.243733       1  \n",
              "2    8.451138 -9.789632 -3.855225 -1.684923 -3.405300  -8.356691       0  \n",
              "3    4.218565  1.104390 -2.239445 -1.504301  3.573772 -18.724099       1  \n",
              "4   -9.445192  0.368672 -7.123532 -2.462980  2.651811  -6.460466       1  \n",
              "..        ...       ...       ...       ...       ...        ...     ...  \n",
              "995 -5.429511 -7.116851  2.629224 -3.142956  2.621997  -0.400097       1  \n",
              "996  3.238225  4.557121 -0.463356 -7.809110  3.039680   6.374570       1  \n",
              "997 -5.087893 -0.279657  1.870682  1.883865 -1.320213  -5.322234       0  \n",
              "998  9.337272  5.613491 -0.188005 -8.060883  3.080424   2.834658       0  \n",
              "999  2.270965  0.355526 -8.975090 -6.109662  6.446929   0.741801       2  \n",
              "\n",
              "[1000 rows x 13 columns]"
            ]
          },
          "execution_count": 40,
          "metadata": {},
          "output_type": "execute_result"
        }
      ],
      "source": [
        "kmeans_final = KMeans(n_clusters = 3)\n",
        "data_pca['cluster'] = kmeans_final.fit_predict(data_pca)\n",
        "data_pca['cluster'] = data['cluster'].astype('category')\n",
        "data_pca"
      ]
    }
  ],
  "metadata": {
    "kernelspec": {
      "display_name": "Python 3 (ipykernel)",
      "language": "python",
      "name": "python3"
    },
    "language_info": {
      "codemirror_mode": {
        "name": "ipython",
        "version": 3
      },
      "file_extension": ".py",
      "mimetype": "text/x-python",
      "name": "python",
      "nbconvert_exporter": "python",
      "pygments_lexer": "ipython3",
      "version": "3.9.7"
    },
    "colab": {
      "provenance": [],
      "include_colab_link": true
    }
  },
  "nbformat": 4,
  "nbformat_minor": 5
}